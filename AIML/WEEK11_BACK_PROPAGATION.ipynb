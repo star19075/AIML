{
  "nbformat": 4,
  "nbformat_minor": 0,
  "metadata": {
    "colab": {
      "provenance": []
    },
    "kernelspec": {
      "name": "python3",
      "display_name": "Python 3"
    },
    "language_info": {
      "name": "python"
    }
  },
  "cells": [
    {
      "cell_type": "code",
      "execution_count": 1,
      "metadata": {
        "id": "d-pJJ_7d3loS"
      },
      "outputs": [],
      "source": [
        "import numpy as np\n",
        "X = np.array(([2,9],[1,5],[3,6])) #Hours Studied,Hours Slept\n",
        "y=np.array(([92],[86],[89])) #Test Score\n",
        "\n"
      ]
    },
    {
      "cell_type": "code",
      "source": [
        "y=y/100 #Max Test Score is 100\n",
        "\n",
        "#Sigmoid Function\n",
        "def sigmoid(x):\n",
        "  return 1/(1+ np.exp(-x))\n",
        "\n"
      ],
      "metadata": {
        "id": "r859XBIY3oFK"
      },
      "execution_count": 2,
      "outputs": []
    },
    {
      "cell_type": "code",
      "source": [
        "#Derivatives of Sigmoid function\n",
        "def derivatives_sigmoid(x):\n",
        "  return x*(1-x)\n",
        "#Variable initialization\n",
        "epoch=10000 #Setting training iterations\n",
        "lr=0.1 #Setting learning rate\n",
        "inputlayer_neurons = 2 #number of features in data set\n",
        "hiddenlayers_neurons = 3 #number of hidden layers neurons\n",
        "output_neurons = 1 #number of neurons of output layer\n",
        "\n"
      ],
      "metadata": {
        "id": "_Djl7kq_3qzn"
      },
      "execution_count": 3,
      "outputs": []
    },
    {
      "cell_type": "code",
      "source": [
        "#weight and bias initialization\n",
        "wh=np.random.uniform(size=(inputlayer_neurons,hiddenlayers_neurons))\n",
        "bias_hidden=np.random.uniform(size=(1,hiddenlayers_neurons))  #bias matrix to the hidden layer\n",
        "weight_hidden=np.random.uniform(size=(hiddenlayers_neurons,output_neurons)) #weight matrix to the output layer\n",
        "bias_output=np.random.uniform(size=(1,output_neurons)) #matrix to output layer\n"
      ],
      "metadata": {
        "id": "270fIm8k3tF6"
      },
      "execution_count": 4,
      "outputs": []
    },
    {
      "cell_type": "code",
      "source": [
        "for i in range(epoch):\n",
        "  hinp1=np.dot(X,wh)\n",
        "  hinp=hinp1+ bias_hidden\n",
        "  hlayer_activation = sigmoid(hinp)\n",
        "\n",
        "  outinp1=np.dot(hlayer_activation,weight_hidden)\n",
        "  outinp = outinp1+bias_output\n",
        "  output = sigmoid(outinp)\n"
      ],
      "metadata": {
        "id": "q_l3AJ8e3x2B"
      },
      "execution_count": 5,
      "outputs": []
    },
    {
      "cell_type": "code",
      "source": [
        "EO = y-output\n",
        "outgrad=derivatives_sigmoid(output)\n",
        "d_output = EO * outgrad\n",
        "EH = d_output.dot(weight_hidden.T)\n",
        "hiddengrad=derivatives_sigmoid(hlayer_activation)\n",
        "d_hiddenlayer = EH * hiddengrad\n",
        "\n"
      ],
      "metadata": {
        "id": "t7mlmJRT34Nn"
      },
      "execution_count": 6,
      "outputs": []
    },
    {
      "cell_type": "code",
      "source": [
        "weight_hidden += hlayer_activation.T.dot(d_output) * lr\n",
        "bias_hidden += np.sum(d_hiddenlayer, axis=0,keepdims=True) * lr\n",
        "wh += X.T.dot(d_hiddenlayer) * lr\n",
        "bias_output += np.sum(d_output,axis=0,keepdims=True) *lr\n"
      ],
      "metadata": {
        "id": "UaNVClz838dt"
      },
      "execution_count": 7,
      "outputs": []
    },
    {
      "cell_type": "code",
      "source": [
        "print(\"Input: \\n\"+str(X))\n",
        "print(\"Actual Output: \\n\"+str(y))\n",
        "print(\"Predicted Output: \\n\",output)\n",
        "\n"
      ],
      "metadata": {
        "colab": {
          "base_uri": "https://localhost:8080/"
        },
        "id": "neQAvHoL39li",
        "outputId": "633d75a9-8ac1-4801-c356-db3f28c5b957"
      },
      "execution_count": 8,
      "outputs": [
        {
          "output_type": "stream",
          "name": "stdout",
          "text": [
            "Input: \n",
            "[[2 9]\n",
            " [1 5]\n",
            " [3 6]]\n",
            "Actual Output: \n",
            "[[0.92]\n",
            " [0.86]\n",
            " [0.89]]\n",
            "Predicted Output: \n",
            " [[0.85258317]\n",
            " [0.8448672 ]\n",
            " [0.84995331]]\n"
          ]
        }
      ]
    }
  ]
}