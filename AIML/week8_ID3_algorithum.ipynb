{
  "cells": [
    {
      "cell_type": "code",
      "execution_count": null,
      "id": "e4671501-ea64-4aa0-a3ed-9ec3033e48ae",
      "metadata": {
        "id": "e4671501-ea64-4aa0-a3ed-9ec3033e48ae",
        "outputId": "a55625d4-7eba-4089-e422-917f2e393ab6"
      },
      "outputs": [
        {
          "name": "stdout",
          "output_type": "stream",
          "text": [
            "     Outlook Temperature Humidity    Wind Play Tennis\n",
            "0      Sunny         Hot     High    Weak          No\n",
            "1      Sunny         Hot     High  Strong          No\n",
            "2   Overcast         Hot     High    Weak         Yes\n",
            "3       Rain        Mild     High    Weak         Yes\n",
            "4       Rain        Cool   Normal    Weak         Yes\n",
            "5       Rain        Cool   Normal  Strong          No\n",
            "6   Overcast        Cool   Normal  Strong         Yes\n",
            "7      Sunny        Mild     High    Weak          No\n",
            "8      Sunny        Cool   Normal    Weak         Yes\n",
            "9       Rain        Mild   Normal    Weak         Yes\n",
            "10     Sunny        Mild   Normal  Strong         Yes\n",
            "11  Overcast        Mild     High  Strong         Yes\n",
            "12  Overcast         Hot   Normal    Weak         Yes\n",
            "13      Rain        Mild     High  Strong          No\n"
          ]
        }
      ],
      "source": [
        "#Import Play Tennis Data\n",
        "import pandas as pd\n",
        "df=pd.read_csv(\"C:/Users/student/Desktop/6731/PlayTennis.csv\")\n",
        "print(df)\n",
        "\n"
      ]
    },
    {
      "cell_type": "code",
      "source": [],
      "metadata": {
        "id": "ZIcGq6sR3Hux"
      },
      "id": "ZIcGq6sR3Hux",
      "execution_count": null,
      "outputs": []
    },
    {
      "cell_type": "code",
      "execution_count": null,
      "id": "e986c114-3bf0-43f4-b730-e55f4b45d8fe",
      "metadata": {
        "id": "e986c114-3bf0-43f4-b730-e55f4b45d8fe"
      },
      "outputs": [],
      "source": [
        "#Function to calculate the entropy of probaility of observations\n",
        "# -p*log2*p\n",
        "def entropy(probs):\n",
        " import math\n",
        " return sum(-prob*math.log(prob,2) for prob in probs)\n",
        "\n"
      ]
    },
    {
      "cell_type": "code",
      "execution_count": null,
      "id": "e9ad010a-a5a6-4d8c-bf92-77c9985eda2a",
      "metadata": {
        "id": "e9ad010a-a5a6-4d8c-bf92-77c9985eda2a",
        "outputId": "10178b50-afd4-4663-9eab-7721e5926500"
      },
      "outputs": [
        {
          "name": "stdout",
          "output_type": "stream",
          "text": [
            "Counter({'Yes': 9, 'No': 5})\n",
            "14\n",
            "[0.35714285714285715, 0.6428571428571429]\n",
            "0.9402859586706309\n"
          ]
        }
      ],
      "source": [
        "#Function to calulate the entropy of the given Data Sets/List with respect to target attributes\n",
        "def entropy_of_list(a_list):\n",
        " from collections import Counter\n",
        " cnt = Counter (x for x in a_list) # Counter calculates the propotion of class\n",
        " print(cnt)\n",
        " num_instances =len(a_list)\n",
        " probs=[x/num_instances for x in cnt.values()]\n",
        " print(num_instances)\n",
        " print(probs)\n",
        " return entropy(probs)\n",
        "total_entropy= entropy_of_list(df['Play Tennis'])\n",
        "print(total_entropy)\n",
        "\n"
      ]
    },
    {
      "cell_type": "code",
      "execution_count": null,
      "id": "3a5b3b86-f174-4381-9893-ec821ab90fd6",
      "metadata": {
        "id": "3a5b3b86-f174-4381-9893-ec821ab90fd6"
      },
      "outputs": [],
      "source": [
        "def information_gain(df,split_attribute_name, target_attribute_name, trace=0):\n",
        "  df_split =df.groupby(split_attribute_name)\n",
        "  print(df_split)\n",
        "  for name,group in df_split:\n",
        "    print(\"Name\",name)\n",
        "    print(\"Group\",group)\n",
        "    nobs=len(df.index)*1.0\n",
        "    print(nobs)\n",
        "    print(\"NOBS\",nobs)\n",
        "    df_agg_ent=df_split.agg({target_attribute_name: [entropy_of_list,lambda x: len(x)/nobs] })[target_attribute_name]\n",
        "    avg_info=sum(df_agg_ent['entropy_of_list'] * df_agg_ent['<lambda_0>'])\n",
        "    old_entropy=entropy_of_list(df[target_attribute_name])\n",
        "    return old_entropy-avg_info\n",
        "\n"
      ]
    },
    {
      "cell_type": "code",
      "execution_count": null,
      "id": "156b9e6b-1721-46d6-9f9f-71ab4d10628e",
      "metadata": {
        "id": "156b9e6b-1721-46d6-9f9f-71ab4d10628e"
      },
      "outputs": [],
      "source": [
        "def id3DT(df, target_attribute_name, attribute_names, default_class=None):\n",
        "  from collections import Counter\n",
        "  cnt = Counter(x for x in df[target_attribute_name])\n",
        "  if len(cnt)==1:\n",
        "     return next(iter(cnt))\n",
        "  elif df.empty or (not attribute_names):\n",
        "     return default_class\n",
        "  else:\n",
        "     default_class =max(cnt.keys())\n",
        "#print(\"attributes_names:\",attribute_names)\n",
        "     gainz=[information_gain(df,attr, target_attribute_name) for attr in attribute_names]\n",
        "     index_of_max=gainz.index(max(gainz))\n",
        "     best_attr=attribute_names[index_of_max]\n",
        "     tree={best_attr:{}}\n",
        "     remaining_attributes_names=[i for i in attribute_names if i != best_attr]\n",
        "     for attr_val, data_subset in df.groupby(best_attr):\n",
        "      subtree=id3DT(data_subset,target_attribute_name,remaining_attributes_names,default_class)\n",
        "      tree[best_attr][attr_val]=subtree\n",
        "     return tree\n"
      ]
    },
    {
      "cell_type": "code",
      "execution_count": null,
      "id": "f3e53a61-f4e9-4418-a419-c5f741c585da",
      "metadata": {
        "id": "f3e53a61-f4e9-4418-a419-c5f741c585da",
        "outputId": "da640f46-ccd0-425e-9d4b-29dad924d1c7"
      },
      "outputs": [
        {
          "name": "stdout",
          "output_type": "stream",
          "text": [
            "List of Attributes: ['Outlook', 'Temperature', 'Humidity', 'Wind', 'Play Tennis']\n",
            "Predicting Attributes: ['Outlook', 'Temperature', 'Humidity', 'Wind']\n"
          ]
        }
      ],
      "source": [
        "# Predicting Attributes\n",
        "attribute_names = list(df)\n",
        "print(\"List of Attributes:\", attribute_names)\n",
        "attribute_names.remove('Play Tennis') #Remove the class attribute\n",
        "print(\"Predicting Attributes:\", attribute_names)\n",
        "\n"
      ]
    },
    {
      "cell_type": "code",
      "execution_count": null,
      "id": "ddeb677e-2fcf-40ba-9aed-b04ad7ad314b",
      "metadata": {
        "id": "ddeb677e-2fcf-40ba-9aed-b04ad7ad314b",
        "outputId": "65d8d699-22ae-4a5b-e72f-9bcc1ba99c15"
      },
      "outputs": [
        {
          "name": "stdout",
          "output_type": "stream",
          "text": [
            "<pandas.core.groupby.generic.DataFrameGroupBy object at 0x000001D525545E80>\n",
            "Name Overcast\n",
            "Group      Outlook Temperature Humidity    Wind Play Tennis\n",
            "2   Overcast         Hot     High    Weak         Yes\n",
            "6   Overcast        Cool   Normal  Strong         Yes\n",
            "11  Overcast        Mild     High  Strong         Yes\n",
            "12  Overcast         Hot   Normal    Weak         Yes\n",
            "14.0\n",
            "NOBS 14.0\n",
            "Counter({'Yes': 4})\n",
            "4\n",
            "[1.0]\n",
            "Counter({'Yes': 3, 'No': 2})\n",
            "5\n",
            "[0.6, 0.4]\n",
            "Counter({'No': 3, 'Yes': 2})\n",
            "5\n",
            "[0.6, 0.4]\n",
            "Counter({'Yes': 9, 'No': 5})\n",
            "14\n",
            "[0.35714285714285715, 0.6428571428571429]\n",
            "<pandas.core.groupby.generic.DataFrameGroupBy object at 0x000001D526327750>\n",
            "Name Cool\n",
            "Group     Outlook Temperature Humidity    Wind Play Tennis\n",
            "4      Rain        Cool   Normal    Weak         Yes\n",
            "5      Rain        Cool   Normal  Strong          No\n",
            "6  Overcast        Cool   Normal  Strong         Yes\n",
            "8     Sunny        Cool   Normal    Weak         Yes\n",
            "14.0\n",
            "NOBS 14.0\n",
            "Counter({'Yes': 3, 'No': 1})\n",
            "4\n",
            "[0.75, 0.25]\n",
            "Counter({'No': 2, 'Yes': 2})\n",
            "4\n",
            "[0.5, 0.5]\n",
            "Counter({'Yes': 4, 'No': 2})\n",
            "6\n",
            "[0.6666666666666666, 0.3333333333333333]\n",
            "Counter({'Yes': 9, 'No': 5})\n",
            "14\n",
            "[0.35714285714285715, 0.6428571428571429]\n",
            "<pandas.core.groupby.generic.DataFrameGroupBy object at 0x000001D526327750>\n",
            "Name High\n",
            "Group      Outlook Temperature Humidity    Wind Play Tennis\n",
            "0      Sunny         Hot     High    Weak          No\n",
            "1      Sunny         Hot     High  Strong          No\n",
            "2   Overcast         Hot     High    Weak         Yes\n",
            "3       Rain        Mild     High    Weak         Yes\n",
            "7      Sunny        Mild     High    Weak          No\n",
            "11  Overcast        Mild     High  Strong         Yes\n",
            "13      Rain        Mild     High  Strong          No\n",
            "14.0\n",
            "NOBS 14.0\n",
            "Counter({'No': 4, 'Yes': 3})\n",
            "7\n",
            "[0.5714285714285714, 0.42857142857142855]\n",
            "Counter({'Yes': 6, 'No': 1})\n",
            "7\n",
            "[0.8571428571428571, 0.14285714285714285]\n",
            "Counter({'Yes': 9, 'No': 5})\n",
            "14\n",
            "[0.35714285714285715, 0.6428571428571429]\n",
            "<pandas.core.groupby.generic.DataFrameGroupBy object at 0x000001D5247F3230>\n",
            "Name Strong\n",
            "Group      Outlook Temperature Humidity    Wind Play Tennis\n",
            "1      Sunny         Hot     High  Strong          No\n",
            "5       Rain        Cool   Normal  Strong          No\n",
            "6   Overcast        Cool   Normal  Strong         Yes\n",
            "10     Sunny        Mild   Normal  Strong         Yes\n",
            "11  Overcast        Mild     High  Strong         Yes\n",
            "13      Rain        Mild     High  Strong          No\n",
            "14.0\n",
            "NOBS 14.0\n",
            "Counter({'No': 3, 'Yes': 3})\n",
            "6\n",
            "[0.5, 0.5]\n",
            "Counter({'Yes': 6, 'No': 2})\n",
            "8\n",
            "[0.25, 0.75]\n",
            "Counter({'Yes': 9, 'No': 5})\n",
            "14\n",
            "[0.35714285714285715, 0.6428571428571429]\n",
            "<pandas.core.groupby.generic.DataFrameGroupBy object at 0x000001D52485A330>\n",
            "Name Cool\n",
            "Group   Outlook Temperature Humidity    Wind Play Tennis\n",
            "4    Rain        Cool   Normal    Weak         Yes\n",
            "5    Rain        Cool   Normal  Strong          No\n",
            "5.0\n",
            "NOBS 5.0\n",
            "Counter({'Yes': 1, 'No': 1})\n",
            "2\n",
            "[0.5, 0.5]\n",
            "Counter({'Yes': 2, 'No': 1})\n",
            "3\n",
            "[0.6666666666666666, 0.3333333333333333]\n",
            "Counter({'Yes': 3, 'No': 2})\n",
            "5\n",
            "[0.6, 0.4]\n",
            "<pandas.core.groupby.generic.DataFrameGroupBy object at 0x000001D5263D4490>\n",
            "Name High\n",
            "Group    Outlook Temperature Humidity    Wind Play Tennis\n",
            "3     Rain        Mild     High    Weak         Yes\n",
            "13    Rain        Mild     High  Strong          No\n",
            "5.0\n",
            "NOBS 5.0\n",
            "Counter({'Yes': 1, 'No': 1})\n",
            "2\n",
            "[0.5, 0.5]\n",
            "Counter({'Yes': 2, 'No': 1})\n",
            "3\n",
            "[0.6666666666666666, 0.3333333333333333]\n",
            "Counter({'Yes': 3, 'No': 2})\n",
            "5\n",
            "[0.6, 0.4]\n",
            "<pandas.core.groupby.generic.DataFrameGroupBy object at 0x000001D5263D4490>\n",
            "Name Strong\n",
            "Group    Outlook Temperature Humidity    Wind Play Tennis\n",
            "5     Rain        Cool   Normal  Strong          No\n",
            "13    Rain        Mild     High  Strong          No\n",
            "5.0\n",
            "NOBS 5.0\n",
            "Counter({'No': 2})\n",
            "2\n",
            "[1.0]\n",
            "Counter({'Yes': 3})\n",
            "3\n",
            "[1.0]\n",
            "Counter({'Yes': 3, 'No': 2})\n",
            "5\n",
            "[0.6, 0.4]\n",
            "<pandas.core.groupby.generic.DataFrameGroupBy object at 0x000001D52632DD50>\n",
            "Name Cool\n",
            "Group   Outlook Temperature Humidity  Wind Play Tennis\n",
            "8   Sunny        Cool   Normal  Weak         Yes\n",
            "5.0\n",
            "NOBS 5.0\n",
            "Counter({'Yes': 1})\n",
            "1\n",
            "[1.0]\n",
            "Counter({'No': 2})\n",
            "2\n",
            "[1.0]\n",
            "Counter({'No': 1, 'Yes': 1})\n",
            "2\n",
            "[0.5, 0.5]\n",
            "Counter({'No': 3, 'Yes': 2})\n",
            "5\n",
            "[0.6, 0.4]\n",
            "<pandas.core.groupby.generic.DataFrameGroupBy object at 0x000001D5263DBE30>\n",
            "Name High\n",
            "Group   Outlook Temperature Humidity    Wind Play Tennis\n",
            "0   Sunny         Hot     High    Weak          No\n",
            "1   Sunny         Hot     High  Strong          No\n",
            "7   Sunny        Mild     High    Weak          No\n",
            "5.0\n",
            "NOBS 5.0\n",
            "Counter({'No': 3})\n",
            "3\n",
            "[1.0]\n",
            "Counter({'Yes': 2})\n",
            "2\n",
            "[1.0]\n",
            "Counter({'No': 3, 'Yes': 2})\n",
            "5\n",
            "[0.6, 0.4]\n",
            "<pandas.core.groupby.generic.DataFrameGroupBy object at 0x000001D5263DBE30>\n",
            "Name Strong\n",
            "Group    Outlook Temperature Humidity    Wind Play Tennis\n",
            "1    Sunny         Hot     High  Strong          No\n",
            "10   Sunny        Mild   Normal  Strong         Yes\n",
            "5.0\n",
            "NOBS 5.0\n",
            "Counter({'No': 1, 'Yes': 1})\n",
            "2\n",
            "[0.5, 0.5]\n",
            "Counter({'No': 2, 'Yes': 1})\n",
            "3\n",
            "[0.6666666666666666, 0.3333333333333333]\n",
            "Counter({'No': 3, 'Yes': 2})\n",
            "5\n",
            "[0.6, 0.4]\n",
            "The Resultant Decision Tree is \n",
            "{'Outlook': {'Overcast': 'Yes',\n",
            "             'Rain': {'Wind': {'Strong': 'No', 'Weak': 'Yes'}},\n",
            "             'Sunny': {'Humidity': {'High': 'No', 'Normal': 'Yes'}}}}\n",
            "Best Attribute: \n",
            " Outlook\n",
            "Tree Keys\n",
            "  dict_keys(['Overcast', 'Rain', 'Sunny'])\n"
          ]
        }
      ],
      "source": [
        "from pprint import pprint\n",
        "tree= id3DT(df,'Play Tennis',attribute_names)\n",
        "print(\"The Resultant Decision Tree is \")\n",
        "pprint(tree)\n",
        "attribute=next(iter(tree))\n",
        "print(\"Best Attribute: \\n\", attribute)\n",
        "print(\"Tree Keys\\n \", tree[attribute].keys())\n",
        "\n",
        "\n"
      ]
    },
    {
      "cell_type": "code",
      "execution_count": null,
      "id": "efd33743-21fe-4624-8c12-157d8c1e0043",
      "metadata": {
        "id": "efd33743-21fe-4624-8c12-157d8c1e0043",
        "outputId": "1c0b2c36-e937-40b5-dc83-c1bd986cf350"
      },
      "outputs": [
        {
          "name": "stdout",
          "output_type": "stream",
          "text": [
            "Key: dict_keys(['Outlook'])\n",
            "Attribute Outlook\n",
            "Instance Attribute: Rain TreeKeys: dict_keys(['Overcast', 'Rain', 'Sunny'])\n",
            "Key: dict_keys(['Wind'])\n",
            "Attribute Wind\n",
            "Instance Attribute: Weak TreeKeys: dict_keys(['Strong', 'Weak'])\n",
            "Key: dict_keys(['Outlook'])\n",
            "Attribute Outlook\n",
            "Instance Attribute: Sunny TreeKeys: dict_keys(['Overcast', 'Rain', 'Sunny'])\n",
            "Key: dict_keys(['Humidity'])\n",
            "Attribute Humidity\n",
            "Instance Attribute: High TreeKeys: dict_keys(['High', 'Normal'])\n",
            "  Outlook Temperature Humidity  Wind Predicted\n",
            "0    Rain        Mild     High  Weak       Yes\n",
            "1   Sunny         Hot     High  Weak        No\n"
          ]
        }
      ],
      "source": [
        "def classify(instance, tree, default=None):\n",
        "  attribute=next(iter(tree))\n",
        "  print(\"Key:\",tree.keys())\n",
        "  print(\"Attribute\",attribute)\n",
        "  if instance[attribute] in tree[attribute].keys():\n",
        "    result=tree[attribute][instance[attribute]]\n",
        "    print(\"Instance Attribute:\",instance[attribute], \"TreeKeys:\",tree[attribute].keys())\n",
        "    if isinstance(result,dict):\n",
        "       return classify(instance,result)\n",
        "    else:\n",
        "       return result\n",
        "  else:\n",
        "    return default\n",
        "tree1={'Outlook':['Rain','Sunny'],'Temperature':['Mild','Hot'],'Humidity':['High','High'],'Wind':['Weak','Weak']}\n",
        "df2=pd.DataFrame(tree1)\n",
        "df2['Predicted']=df2.apply(classify,axis=1, args=(tree,'No'))\n",
        "print(df2)"
      ]
    },
    {
      "cell_type": "code",
      "execution_count": null,
      "id": "30102b63-78f9-433e-8a2c-9b8996b19ac4",
      "metadata": {
        "id": "30102b63-78f9-433e-8a2c-9b8996b19ac4"
      },
      "outputs": [],
      "source": []
    }
  ],
  "metadata": {
    "kernelspec": {
      "display_name": "Python [conda env:base] *",
      "language": "python",
      "name": "conda-base-py"
    },
    "language_info": {
      "codemirror_mode": {
        "name": "ipython",
        "version": 3
      },
      "file_extension": ".py",
      "mimetype": "text/x-python",
      "name": "python",
      "nbconvert_exporter": "python",
      "pygments_lexer": "ipython3",
      "version": "3.13.5"
    },
    "colab": {
      "provenance": []
    }
  },
  "nbformat": 4,
  "nbformat_minor": 5
}